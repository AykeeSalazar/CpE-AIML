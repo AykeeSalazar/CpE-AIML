{
  "nbformat": 4,
  "nbformat_minor": 0,
  "metadata": {
    "colab": {
      "name": "COESA - Lab 03 - Linear Regression I",
      "provenance": [],
      "include_colab_link": true
    },
    "kernelspec": {
      "name": "python3",
      "display_name": "Python 3"
    },
    "language_info": {
      "name": "python"
    }
  },
  "cells": [
    {
      "cell_type": "markdown",
      "metadata": {
        "id": "view-in-github",
        "colab_type": "text"
      },
      "source": [
        "<a href=\"https://colab.research.google.com/github/AykeeSalazar/CpE-AIML/blob/main/58034_LabNo.3_Coesa/COESA_Lab_03_Linear_Regression_I.ipynb\" target=\"_parent\"><img src=\"https://colab.research.google.com/assets/colab-badge.svg\" alt=\"Open In Colab\"/></a>"
      ]
    },
    {
      "cell_type": "markdown",
      "metadata": {
        "id": "MpJlDXlItfea"
      },
      "source": [
        "# Topic 4 Lab 1: Simple Linear Regression\n",
        "$_{\\text{©D.J. Lopez | 2021 | Fundamentals of Machine Learning}}$"
      ]
    },
    {
      "cell_type": "markdown",
      "metadata": {
        "id": "NxfvdPKXt9CA"
      },
      "source": [
        "Create a class named `LinearRegression_Simple()` wherein it can compute for the linear regression for a single variable. The class will be required to have the following helper methods:\n",
        "> 1. `covariance(vectA, vectB)`\n",
        ">> input: 2 single-dimension vectors\n",
        ">>\n",
        ">> output: the covariance between the two input vectors (scalar) \n",
        "> 2. `pearsons_R(vectA, vectB)`\n",
        ">> input: 2 single-dimension vectors\n",
        ">>\n",
        ">> output: the correlation between the two input vectors (scalar)\n",
        "> 3. `train(X, y)`\n",
        ">> input: 2 single-dimension vectors\n",
        ">>\n",
        ">> output: the weights of the linear regressor.\n",
        "> 4. `predict(x)`\n",
        ">> input: A testing vector. *Note*: this function should accept both scalar and vector values.\n",
        ">>\n",
        ">> output: the predicted value. Note: the procedure in solving for the predicted value should be vectorized. Use the concept of matrix multiplication.\n",
        "> 5. `evaluate()`\n",
        ">> input: \n",
        ">>\n",
        ">> output: a `dictionary` that displays the SST, SSR, SST, MSE, RMSE, R-squared, and the Adjusted R-squared of the model. Note: You should use the `predict()` method here.\n",
        "> 5. `visualize()`\n",
        ">> input: *none*\n",
        ">>\n",
        ">> output: a visualization of the linear regressor over the input dataset. It should be saved as a .jpg file into the running notebook with a dpi of 400."
      ]
    },
    {
      "cell_type": "code",
      "metadata": {
        "id": "HJ5d9yB8x4y5"
      },
      "source": [
        "import numpy as np\n",
        "import matplotlib.pyplot as plt\n",
        "## No other packages or libraries can be added in this cell"
      ],
      "execution_count": null,
      "outputs": []
    },
    {
      "cell_type": "code",
      "metadata": {
        "id": "0UVg9Zo6td0j"
      },
      "source": [
        "### YOUR CODE HERE\n",
        "class LinearRegression_Simple():\n",
        "  model_ = 0\n",
        "  \n",
        "  \n",
        "  def covariance(self,vectA,vectB): #covariance\n",
        "    return np.cov(vectA,vectB)[0,1] \n",
        "\n",
        "\n",
        "  def pearsons_r(self,vectA, vectB):\n",
        "    return np.corrcoef(vectA, vectB)[1,0]\n",
        "  \n",
        "\n",
        "  def train(self,X, y):\n",
        "    rho =  self.pearsons_r(X,y)\n",
        "    w1 = rho * (np.std(y)/np.std(X))\n",
        "    w0 = y.mean() - w1*X.mean()\n",
        "    weights = w1,w0\n",
        "    self.model_= np.array(weights)\n",
        "    return self.model_\n",
        "\n",
        "\n",
        "\n",
        "  def predict(self,x):\n",
        "    w1 ,w0 = self.train(X,y)\n",
        "    w1 = np.identity(x.size)*w1\n",
        "    pred = w0 + np.dot(w1,x.reshape(x.size,1))\n",
        "    return np.array(pred)\n",
        "  \n",
        "\n",
        "  def adj_r2(self,r2,n,k):\n",
        "    return 1-((1-r2)*(n-1)/(n-k-1))\n",
        " \n",
        " \n",
        "  def evaluate(self):\n",
        "  \n",
        "    y_hat = self.predict(X)\n",
        "    y_reshape = y.reshape(-1,1)\n",
        "\n",
        "    SST = np.sum(np.square(y_reshape - y_reshape.mean()))\n",
        "    SSR = np.sum(np.square(y_hat - y_reshape.mean()))\n",
        "    SSE = np.sum(np.square(y_hat - y_reshape))\n",
        "    MSE = np.mean(np.square(y_hat - y_reshape))\n",
        "    RMSE =  np.sqrt(MSE)\n",
        "    RS = 1-(SSE/SST)\n",
        "    ARS =  self.adj_r2(RS,y.size,1)\n",
        "    evaluate_dict = {\n",
        "     'Sum of Squares Total':[SST],\n",
        "     'Sum of Squares Regression': [SSR],\n",
        "     'Sum of Squares Error': [SSE],\n",
        "     'Mean of Squared Error': [MSE],\n",
        "     'Root Mean Squared Error': [RMSE],\n",
        "     'R-squared': [RS],\n",
        "     'Adjusted R-squared': [ARS]\n",
        "     }\n",
        "    return evaluate_dict\n",
        "\n",
        "\n",
        "  def visualize(self):\n",
        "    plt.scatter(X,y)\n",
        "    plt.plot(X, self.predict(X[:y.size]), color='red')\n",
        "    plt.xlabel('x')\n",
        "    plt.ylabel('y')\n",
        "    plt.grid()\n",
        "    plt.savefig(\"visualize.jpg\", dpi=400)\n",
        "    plt.show\n",
        "\n",
        "  ### Program the required methods\n",
        "\n",
        "  ### You may add other helper functions in to make your code cleaner"
      ],
      "execution_count": null,
      "outputs": []
    },
    {
      "cell_type": "code",
      "metadata": {
        "id": "WfpcPrkYxXJJ"
      },
      "source": [
        "### Testing Data\n",
        "### DO NOT DELETE NOR MODIFY THIS CELL\n",
        "\n",
        "np.random.seed(123)\n",
        "X = np.arange(0,100,1,dtype=np.float64) ## features\n",
        "m = np.random.uniform(0.3,0.8,(100,)) ## weights\n",
        "b = np.random.uniform(8,10,(100,)) ## biases\n",
        "y = -m*X-b  ## targets\n",
        "X_test = np.arange(100,300,1,dtype=np.float64)"
      ],
      "execution_count": null,
      "outputs": []
    },
    {
      "cell_type": "code",
      "metadata": {
        "id": "04QWyv34xQMK"
      },
      "source": [
        "## TEST #1 (Max pts: 5)\n",
        "## DO NOT DELETE NOR MODIFY THIS CELL\n",
        "regressor = LinearRegression_Simple()"
      ],
      "execution_count": null,
      "outputs": []
    },
    {
      "cell_type": "code",
      "metadata": {
        "id": "UUkoBEMryVvx",
        "colab": {
          "base_uri": "https://localhost:8080/"
        },
        "outputId": "dcdd69a8-4aea-44a4-dfa9-a6f20f3ea267"
      },
      "source": [
        "## TEST #2 (Max pts: 5)\n",
        "## DO NOT DELETE NOR MODIFY THIS CELL\n",
        "cov = regressor.covariance(X,y)\n",
        "cov"
      ],
      "execution_count": null,
      "outputs": [
        {
          "output_type": "execute_result",
          "data": {
            "text/plain": [
              "-456.6633012116484"
            ]
          },
          "metadata": {},
          "execution_count": 7
        }
      ]
    },
    {
      "cell_type": "markdown",
      "metadata": {
        "id": "juJUyR5zye-x"
      },
      "source": [
        "Expected output value:\n",
        "$$cov_{x,y} = -456.66$$"
      ]
    },
    {
      "cell_type": "code",
      "metadata": {
        "id": "jN1SaeSUyt7I",
        "colab": {
          "base_uri": "https://localhost:8080/"
        },
        "outputId": "60ce913d-f5d9-4faf-e57e-a4cfbcc0e678"
      },
      "source": [
        "## TEST #3 (Max pts: 10)\n",
        "## DO NOT DELETE NOR MODIFY THIS CELL\n",
        "r = regressor.pearsons_r(X,y)\n",
        "r"
      ],
      "execution_count": null,
      "outputs": [
        {
          "output_type": "execute_result",
          "data": {
            "text/plain": [
              "-0.9050803915258335"
            ]
          },
          "metadata": {},
          "execution_count": 8
        }
      ]
    },
    {
      "cell_type": "markdown",
      "metadata": {
        "id": "Q3vAJZWAzBmZ"
      },
      "source": [
        "Expected output value:\n",
        "$$r = -0.90$$"
      ]
    },
    {
      "cell_type": "code",
      "metadata": {
        "id": "SFDJhUNnzUGh",
        "colab": {
          "base_uri": "https://localhost:8080/"
        },
        "outputId": "acc5cf33-0a79-4216-bdba-3c9f0b1c7662"
      },
      "source": [
        "## TEST #4 (Max pts: 15)\n",
        "## DO NOT DELETE NOR MODIFY THIS CELL\n",
        "regressor.train(X,y)\n",
        "regressor.model_"
      ],
      "execution_count": null,
      "outputs": [
        {
          "output_type": "execute_result",
          "data": {
            "text/plain": [
              "array([-0.54257026, -9.3787971 ])"
            ]
          },
          "metadata": {},
          "execution_count": 9
        }
      ]
    },
    {
      "cell_type": "markdown",
      "metadata": {
        "id": "-e-WrFSG0Y1Z"
      },
      "source": [
        "Expected output value:\n",
        "$$\\omega = \\begin{bmatrix}\\omega_1 \\\\ \\omega_0\\end{bmatrix} = \\begin{bmatrix}-0.54 \\\\ -9.38\\end{bmatrix}$$"
      ]
    },
    {
      "cell_type": "code",
      "metadata": {
        "id": "xYiwOjWD2I18",
        "colab": {
          "base_uri": "https://localhost:8080/"
        },
        "outputId": "cb151fd2-55c8-404e-ff7b-08a5e7415489"
      },
      "source": [
        "## TEST #5 (Max pts: 25)\n",
        "## DO NOT DELETE NOR MODIFY THIS CELL\n",
        "preds = regressor.predict(X_test[:5])\n",
        "preds"
      ],
      "execution_count": null,
      "outputs": [
        {
          "output_type": "execute_result",
          "data": {
            "text/plain": [
              "array([[-63.63582299],\n",
              "       [-64.17839325],\n",
              "       [-64.72096351],\n",
              "       [-65.26353377],\n",
              "       [-65.80610403]])"
            ]
          },
          "metadata": {},
          "execution_count": 10
        }
      ]
    },
    {
      "cell_type": "markdown",
      "metadata": {
        "id": "oozhSInd2esS"
      },
      "source": [
        "Expected output value:\n",
        "$$\\hat{y}_i = \\begin{bmatrix} -63.64 \\\\ -64.18 \\\\ -64.72 \\\\ -65.26 \\\\ -65.81 \\end{bmatrix}, i = \\{0,1,2,3,4\\}$$"
      ]
    },
    {
      "cell_type": "code",
      "metadata": {
        "id": "l2CTjl1805Cq",
        "colab": {
          "base_uri": "https://localhost:8080/"
        },
        "outputId": "e9ecfc08-8ed6-4260-8df1-aca1e7db2193"
      },
      "source": [
        "## TEST #6 (Max pts: 30)\n",
        "## DO NOT DELETE NOR MODIFY THIS CELL\n",
        "model_stats = regressor.evaluate()\n",
        "model_stats"
      ],
      "execution_count": null,
      "outputs": [
        {
          "output_type": "execute_result",
          "data": {
            "text/plain": [
              "{'Adjusted R-squared': [0.8173253162992968],\n",
              " 'Mean of Squared Error': [54.14797548090916],\n",
              " 'R-squared': [0.8191705151245564],\n",
              " 'Root Mean Squared Error': [7.358530796355286],\n",
              " 'Sum of Squares Error': [5414.797548090916],\n",
              " 'Sum of Squares Regression': [24529.42062971709],\n",
              " 'Sum of Squares Total': [29944.21817780801]}"
            ]
          },
          "metadata": {},
          "execution_count": 11
        }
      ]
    },
    {
      "cell_type": "code",
      "metadata": {
        "id": "oH5K49uT00CB",
        "colab": {
          "base_uri": "https://localhost:8080/",
          "height": 279
        },
        "outputId": "1fdbbc6f-f547-4c1d-a8de-668617cfd6de"
      },
      "source": [
        "## TEST #7 (Max pts: 10)\n",
        "## DO NOT DELETE NOR MODIFY THIS CELL\n",
        "regressor.visualize()"
      ],
      "execution_count": null,
      "outputs": [
        {
          "output_type": "display_data",
          "data": {
            "image/png": "[encoded data removed]",
            "text/plain": [
              "<Figure size 432x288 with 1 Axes>"
            ]
          },
          "metadata": {
            "needs_background": "light"
          }
        }
      ]
    }
  ]
}